{
 "cells": [
  {
   "cell_type": "code",
   "execution_count": 1,
   "id": "7136cdee",
   "metadata": {},
   "outputs": [],
   "source": [
    "f = 5\n",
    "c = 4"
   ]
  },
  {
   "cell_type": "code",
   "execution_count": 2,
   "id": "10c63920",
   "metadata": {},
   "outputs": [],
   "source": [
    "d = f * c"
   ]
  },
  {
   "cell_type": "code",
   "execution_count": 3,
   "id": "17710f43",
   "metadata": {},
   "outputs": [
    {
     "data": {
      "text/plain": [
       "20"
      ]
     },
     "execution_count": 3,
     "metadata": {},
     "output_type": "execute_result"
    }
   ],
   "source": [
    "d"
   ]
  },
  {
   "cell_type": "code",
   "execution_count": 4,
   "id": "766332b3",
   "metadata": {},
   "outputs": [],
   "source": [
    "a = 3"
   ]
  },
  {
   "cell_type": "code",
   "execution_count": 5,
   "id": "3f21f17f",
   "metadata": {},
   "outputs": [],
   "source": [
    "t = d ** 3"
   ]
  },
  {
   "cell_type": "code",
   "execution_count": 6,
   "id": "af71c101",
   "metadata": {},
   "outputs": [
    {
     "data": {
      "text/plain": [
       "8000"
      ]
     },
     "execution_count": 6,
     "metadata": {},
     "output_type": "execute_result"
    }
   ],
   "source": [
    "t"
   ]
  },
  {
   "cell_type": "code",
   "execution_count": null,
   "id": "8b618ebd",
   "metadata": {},
   "outputs": [],
   "source": []
  }
 ],
 "metadata": {
  "kernelspec": {
   "display_name": "Python 3 (ipykernel)",
   "language": "python",
   "name": "python3"
  },
  "language_info": {
   "codemirror_mode": {
    "name": "ipython",
    "version": 3
   },
   "file_extension": ".py",
   "mimetype": "text/x-python",
   "name": "python",
   "nbconvert_exporter": "python",
   "pygments_lexer": "ipython3",
   "version": "3.9.13"
  }
 },
 "nbformat": 4,
 "nbformat_minor": 5
}
